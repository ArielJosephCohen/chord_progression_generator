{
 "cells": [
  {
   "cell_type": "code",
   "execution_count": 1,
   "metadata": {},
   "outputs": [],
   "source": [
    "import warnings\n",
    "warnings.filterwarnings('ignore')\n",
    "import pandas as pd\n",
    "from scipy import stats\n",
    "import numpy as np\n",
    "import matplotlib.pyplot as plt\n",
    "import seaborn as sns\n",
    "from sklearn.preprocessing import *"
   ]
  },
  {
   "cell_type": "code",
   "execution_count": 2,
   "metadata": {},
   "outputs": [],
   "source": [
    "def generate_chord_progression():\n",
    "    \n",
    "    # picking a mode to form your chord progression\n",
    "    mode = input(prompt=[1,2,3,4,5,6,7])\n",
    "    \n",
    "    # picking the amount of bars for your base progression low part\n",
    "    length_low = input(prompt=[4,8])\n",
    "    \n",
    "    # picking whether or not you want a pre-course\n",
    "    pre_chorus_part = input(prompt=['y','n'])\n",
    "    \n",
    "    # picking number of iterations of prechorus\n",
    "    if pre_chorus_part == 'y'\n",
    "        pre_chorus_length = input(prompt=[2,4])"
   ]
  }
 ],
 "metadata": {
  "kernelspec": {
   "display_name": "Python 3",
   "language": "python",
   "name": "python3"
  },
  "language_info": {
   "codemirror_mode": {
    "name": "ipython",
    "version": 3
   },
   "file_extension": ".py",
   "mimetype": "text/x-python",
   "name": "python",
   "nbconvert_exporter": "python",
   "pygments_lexer": "ipython3",
   "version": "3.7.4"
  }
 },
 "nbformat": 4,
 "nbformat_minor": 4
}
