{
 "cells": [
  {
   "cell_type": "code",
   "execution_count": 1,
   "metadata": {},
   "outputs": [],
   "source": [
    "import warnings\n",
    "warnings.filterwarnings('ignore')\n",
    "import pandas as pd\n",
    "from scipy import stats\n",
    "import numpy as np\n",
    "import matplotlib.pyplot as plt\n",
    "import seaborn as sns\n",
    "from sklearn.preprocessing import *"
   ]
  },
  {
   "cell_type": "code",
   "execution_count": 4,
   "metadata": {},
   "outputs": [],
   "source": [
    "### should I make this easier and just have a section for each part of the song - like a chorus and erse generator?"
   ]
  },
  {
   "cell_type": "code",
   "execution_count": 2,
   "metadata": {},
   "outputs": [],
   "source": [
    "def generate_chord_progression():\n",
    "    \n",
    "    # informing user that they will have to pick a mode and all the chords represent the relative scale of that mode\n",
    "    print('''please pick a mode to keep in mind to adjust your chord qualities at the end of the process, also note that the mode will not change when the key changes, if you choose to change keys''')\n",
    "    \n",
    "    # picking the amount of bars for your progression's low part\n",
    "    length_low = input(prompt=\"pick how many chords appear in core verse progression: 4 or 8\")\n",
    "    \n",
    "    # deciding how important root is in low part\n",
    "    verse_root = input(prompt='is the root chord important to you for the verse?')\n",
    "    \n",
    "    # picking whether or not you want a pre-chorus\n",
    "    pre_chorus_part = input(prompt='would you like a pre-chorus section?')\n",
    "    \n",
    "    # option to change key in pre-chorus\n",
    "    if pre_chorus_part == 'y':\n",
    "        pre_chorus_key_change = input(prompt='would you like a key change for your pre-chorus?')\n",
    "    \n",
    "    # picking number of iterations of pre-chorus\n",
    "    if pre_chorus_part == 'y':\n",
    "        pre_chorus_length = input(prompt=\"how many times would you like your pre-chorus to repeat?\")\n",
    "        \n",
    "    # picking whether you want to change chords for the chorus or keep the same progression\n",
    "    chorus = input(prompt='would you like to change chords in the chorus?')\n",
    "    \n",
    "    # allowing for key change in chorus\n",
    "    if chorus == 'y':\n",
    "        chorus_key = input(prompt='would you like a key change in your chorus?')\n",
    "        \n",
    "    # picking whether you want a bridge or not\n",
    "    bridge = input(promt='would you like a bridge in your song?')\n",
    "    \n",
    "    # picking whether you want a key change in the bridge\n",
    "    bridge_key = input(prompt='would you like to have a key change in your chorus?')\n",
    "    \n",
    "    # picking how many times the bridge repeats\n",
    "    if bridge == 'y':\n",
    "        bridge_length = input(prompt=\"how many times would you like your bridge to repeat?\")"
   ]
  }
 ],
 "metadata": {
  "kernelspec": {
   "display_name": "Python 3",
   "language": "python",
   "name": "python3"
  },
  "language_info": {
   "codemirror_mode": {
    "name": "ipython",
    "version": 3
   },
   "file_extension": ".py",
   "mimetype": "text/x-python",
   "name": "python",
   "nbconvert_exporter": "python",
   "pygments_lexer": "ipython3",
   "version": "3.7.4"
  }
 },
 "nbformat": 4,
 "nbformat_minor": 4
}
