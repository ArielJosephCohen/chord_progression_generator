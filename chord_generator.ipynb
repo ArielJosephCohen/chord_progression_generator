{
 "cells": [
  {
   "cell_type": "code",
   "execution_count": 9,
   "metadata": {},
   "outputs": [],
   "source": [
    "from pychord import Chord"
   ]
  },
  {
   "cell_type": "code",
   "execution_count": 25,
   "metadata": {},
   "outputs": [
    {
     "data": {
      "text/plain": [
       "['C', 'E', 'G']"
      ]
     },
     "execution_count": 25,
     "metadata": {},
     "output_type": "execute_result"
    }
   ],
   "source": [
    "Chord(\"C\").components()"
   ]
  },
  {
   "cell_type": "code",
   "execution_count": 1,
   "metadata": {},
   "outputs": [],
   "source": [
    "import warnings\n",
    "warnings.filterwarnings('ignore')\n",
    "import pandas as pd\n",
    "from scipy import stats\n",
    "import numpy as np\n",
    "import matplotlib.pyplot as plt\n",
    "import seaborn as sns\n",
    "from sklearn.preprocessing import *"
   ]
  },
  {
   "cell_type": "code",
   "execution_count": 4,
   "metadata": {},
   "outputs": [],
   "source": [
    "### should I make this easier and just have a section for each part of the song - like a chorus and erse generator?"
   ]
  },
  {
   "cell_type": "code",
   "execution_count": 5,
   "metadata": {},
   "outputs": [],
   "source": [
    "### intro could be same as chorus or verse"
   ]
  },
  {
   "cell_type": "code",
   "execution_count": 26,
   "metadata": {},
   "outputs": [],
   "source": [
    "Cmaj_dct={1:'C',2:'Dm',3:'Em',4:'F',5:'G',6:'Am',7:'Bdim'}\n",
    "Dmin_dct={1:'Dm',2:'Em',3:'F',4:'G',5:'Am',6:'Bdim',7:'C'}\n",
    "Emin_dct={1:'Em',2:'F',3:'G',4:'Am',5:'Bdim',6:'C',7:'Dm'}\n",
    "Fmaj_dct={1:'F',2:'G',3:'Am',4:'Bdim',5:'C',6:'Dm',7:'Em'}\n",
    "Gmaj_dct={1:'G',2:'Am',3:'Bdim',4:'C',5:'Dm',6:'Em',7:'F'}\n",
    "Amin_dct={1:'Am',2:'Bdim',3:'C',4:'Dm',5:'Em',6:'F',7:'G'}\n",
    "Bdim_dct={1:'Bdim',2:'C',3:'Dm',4:'Em',5:'F',6:'G',7:'Am'}"
   ]
  },
  {
   "cell_type": "code",
   "execution_count": 28,
   "metadata": {},
   "outputs": [],
   "source": [
    "def modal_chord_prog_four_using_root(modal_dict):\n",
    "    \n",
    "    chord_prog = {}\n",
    "    \n",
    "    chord_prog[1] = modal_dict[1]\n",
    "    chord_prog[2] = np.random.choice([modal_dict[1],modal_dict[2],modal_dict[3],modal_dict[4],modal_dict[5],modal_dict[6]])\n",
    "    chord_prog[3] = np.random.choice([modal_dict[1],modal_dict[2],modal_dict[3],modal_dict[4],modal_dict[6]])\n",
    "    chord_prog[4] = modal_dict[5]\n",
    "    \n",
    "    return chord_prog"
   ]
  },
  {
   "cell_type": "code",
   "execution_count": 36,
   "metadata": {},
   "outputs": [],
   "source": [
    "def modal_chord_prog_eight_using_root(modal_dict):\n",
    "    \n",
    "    chord_prog = {}\n",
    "    \n",
    "    chord_prog[1] = modal_dict[1]\n",
    "    chord_prog[2] = np.random.choice([modal_dict[1],modal_dict[2],modal_dict[3],modal_dict[4],modal_dict[5],modal_dict[6]])\n",
    "    chord_prog[3] = np.random.choice([modal_dict[1],modal_dict[2],modal_dict[3],modal_dict[4],modal_dict[6]])\n",
    "    chord_prog[4] = np.random.choice([modal_dict[5],modal_dict[4],modal_dict[2],modal_dict[3],modal_dict[6]])\n",
    "    chord_prog[5] = np.random.choice([modal_dict[1],modal_dict[2],modal_dict[3],modal_dict[4],modal_dict[6]])\n",
    "    chord_prog[6] = np.random.choice([modal_dict[1],modal_dict[2],modal_dict[3],modal_dict[4],modal_dict[5],modal_dict[6]])\n",
    "    chord_prog[7] = np.random.choice([modal_dict[1],modal_dict[2],modal_dict[3],modal_dict[4],modal_dict[6]])\n",
    "    chord_prog[8] = modal_dict[5]\n",
    "    \n",
    "    return chord_prog"
   ]
  },
  {
   "cell_type": "code",
   "execution_count": 39,
   "metadata": {},
   "outputs": [],
   "source": [
    "def modal_chord_prog_four_no_root(modal_dict):\n",
    "    \n",
    "    chord_prog = {}\n",
    "    \n",
    "    chord_prog[1] = np.random.choice([modal_dict[2],modal_dict[3],modal_dict[4],modal_dict[5],modal_dict[6]])\n",
    "    chord_prog[2] = np.random.choice([modal_dict[2],modal_dict[3],modal_dict[4],modal_dict[5],modal_dict[6]])\n",
    "    chord_prog[3] = np.random.choice([modal_dict[2],modal_dict[3],modal_dict[4],modal_dict[6]])\n",
    "    chord_prog[4] = modal_dict[5]\n",
    "    \n",
    "    return chord_prog"
   ]
  },
  {
   "cell_type": "code",
   "execution_count": 38,
   "metadata": {},
   "outputs": [],
   "source": [
    "def modal_chord_prog_eight_no_root(modal_dict):\n",
    "    \n",
    "    chord_prog = {}\n",
    "    \n",
    "    chord_prog[1] = np.random.choice([modal_dict[2],modal_dict[3],modal_dict[4],modal_dict[5],modal_dict[6]])\n",
    "    chord_prog[2] = np.random.choice([modal_dict[2],modal_dict[3],modal_dict[4],modal_dict[5],modal_dict[6]])\n",
    "    chord_prog[3] = np.random.choice([modal_dict[2],modal_dict[3],modal_dict[4],modal_dict[5],modal_dict[6]])\n",
    "    chord_prog[4] = np.random.choice([modal_dict[2],modal_dict[3],modal_dict[4],modal_dict[5],modal_dict[6]])\n",
    "    chord_prog[5] = np.random.choice([modal_dict[2],modal_dict[3],modal_dict[4],modal_dict[5],modal_dict[6]])\n",
    "    chord_prog[6] = np.random.choice([modal_dict[2],modal_dict[3],modal_dict[4],modal_dict[5],modal_dict[6]])\n",
    "    chord_prog[7] = np.random.choice([modal_dict[2],modal_dict[3],modal_dict[4],modal_dict[5],modal_dict[6]])\n",
    "    chord_prog[8] = modal_dict[5]\n",
    "    \n",
    "    return chord_prog"
   ]
  },
  {
   "cell_type": "code",
   "execution_count": 49,
   "metadata": {},
   "outputs": [],
   "source": [
    "def generate_verse():\n",
    "    \n",
    "    C_maj_scale_dict = {'1':'Cmaj_dct','2':'Dmin_dct','3':'Emin_dct','4':'Fmaj_dt','5':'Gmaj_dct','6':'Amin_dct','7':'Bdim_dct'}\n",
    "        \n",
    "    # pick the mode you would like to have your song in\n",
    "    mode = input(prompt='select a mode between 1 and 7')\n",
    "    \n",
    "    # using c major scale modes - you can transpose the output\n",
    "    modal_dict = C_maj_scale_dict[mode]\n",
    "        \n",
    "    # pick the length of the chord progressions in terms of total chords, not unique chords\n",
    "    length = input(prompt=\"pick how many chords appear in core verse progression: 4, or 8\")\n",
    "    \n",
    "    # pick whether you want the verse to have a strong tie to the root\n",
    "    root = input(prompt=\"is the root of strong importance to you?\")"
   ]
  },
  {
   "cell_type": "code",
   "execution_count": 2,
   "metadata": {},
   "outputs": [],
   "source": [
    "def generate_chord_progression():\n",
    "    \n",
    "    # informing user that they will have to pick a mode and all the chords represent the relative scale of that mode\n",
    "    print('''please pick a mode to keep in mind to adjust your chord qualities at the end of the process, also note that the mode will not change when the key changes, if you choose to change keys''')\n",
    "    \n",
    "    # picking the amount of bars for your progression's low part\n",
    "    length_low = input(prompt=\"pick how many chords appear in core verse progression: 4 or 8\")\n",
    "    \n",
    "    # deciding how important root is in low part\n",
    "    verse_root = input(prompt='is the root chord important to you for the verse?')\n",
    "    \n",
    "    # picking whether or not you want a pre-chorus\n",
    "    pre_chorus_part = input(prompt='would you like a pre-chorus section?')\n",
    "    \n",
    "    # option to change key in pre-chorus\n",
    "    if pre_chorus_part == 'y':\n",
    "        pre_chorus_key_change = input(prompt='would you like a key change for your pre-chorus?')\n",
    "    \n",
    "    # picking number of iterations of pre-chorus\n",
    "    if pre_chorus_part == 'y':\n",
    "        pre_chorus_length = input(prompt=\"how many times would you like your pre-chorus to repeat?\")\n",
    "        \n",
    "    # picking whether you want to change chords for the chorus or keep the same progression\n",
    "    chorus = input(prompt='would you like to change chords in the chorus?')\n",
    "    \n",
    "    # allowing for key change in chorus\n",
    "    if chorus == 'y':\n",
    "        chorus_key = input(prompt='would you like a key change in your chorus?')\n",
    "        \n",
    "    # picking whether you want a bridge or not\n",
    "    bridge = input(promt='would you like a bridge in your song?')\n",
    "    \n",
    "    # picking whether you want a key change in the bridge\n",
    "    bridge_key = input(prompt='would you like to have a key change in your chorus?')\n",
    "    \n",
    "    # picking how many times the bridge repeats\n",
    "    if bridge == 'y':\n",
    "        bridge_length = input(prompt=\"how many times would you like your bridge to repeat?\")"
   ]
  }
 ],
 "metadata": {
  "kernelspec": {
   "display_name": "Python 3",
   "language": "python",
   "name": "python3"
  },
  "language_info": {
   "codemirror_mode": {
    "name": "ipython",
    "version": 3
   },
   "file_extension": ".py",
   "mimetype": "text/x-python",
   "name": "python",
   "nbconvert_exporter": "python",
   "pygments_lexer": "ipython3",
   "version": "3.7.4"
  }
 },
 "nbformat": 4,
 "nbformat_minor": 4
}
