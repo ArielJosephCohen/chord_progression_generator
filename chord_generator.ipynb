{
 "cells": [
  {
   "cell_type": "code",
   "execution_count": null,
   "metadata": {},
   "outputs": [],
   "source": [
    "import pychord"
   ]
  },
  {
   "cell_type": "code",
   "execution_count": 2,
   "metadata": {},
   "outputs": [],
   "source": [
    "pychord.Chord(\"C\").components()"
   ]
  },
  {
   "cell_type": "code",
   "execution_count": 3,
   "metadata": {},
   "outputs": [],
   "source": [
    "import warnings\n",
    "warnings.filterwarnings('ignore')\n",
    "import pandas as pd\n",
    "from scipy import stats\n",
    "import numpy as np\n",
    "import matplotlib.pyplot as plt\n",
    "import seaborn as sns\n",
    "from sklearn.preprocessing import *"
   ]
  },
  {
   "cell_type": "code",
   "execution_count": 4,
   "metadata": {},
   "outputs": [],
   "source": [
    "### should I make this easier and just have a section for each part of the song - like a chorus and erse generator?"
   ]
  },
  {
   "cell_type": "code",
   "execution_count": 5,
   "metadata": {},
   "outputs": [],
   "source": [
    "### intro could be same as chorus or verse"
   ]
  },
  {
   "cell_type": "code",
   "execution_count": 6,
   "metadata": {},
   "outputs": [],
   "source": [
    "note_list = ['C','C#','D','D#','E','F','F#','G','G#','A','A#','B','C2','C#2','D2','D#2','E2','F2','F#2','G2','G#2','A2','A#2','B2']\n",
    "note_dict = {}\n",
    "for i in range(0,24):\n",
    "    note_dict[note_list[i]]=i"
   ]
  },
  {
   "cell_type": "code",
   "execution_count": 7,
   "metadata": {},
   "outputs": [],
   "source": [
    "def generate_major_scale(Note):\n",
    "    \n",
    "    # initialize scale\n",
    "    scale = {}\n",
    "    \n",
    "    # build a list for later\n",
    "    notes = []\n",
    "    \n",
    "    # build scale\n",
    "    note_1 = str(Note)\n",
    "    notes.append(note_1)\n",
    "    note_2 = str(note_list[note_dict[Note]+2]).replace(\"2\",\"\")\n",
    "    notes.append(note_2)\n",
    "    note_3 = str(note_list[note_dict[Note]+4]).replace(\"2\",\"\")\n",
    "    notes.append(note_3)\n",
    "    note_4 = str(note_list[note_dict[Note]+5]).replace(\"2\",\"\")\n",
    "    notes.append(note_4)\n",
    "    note_5 = str(note_list[note_dict[Note]+7]).replace(\"2\",\"\")\n",
    "    notes.append(note_5)\n",
    "    note_6 = str(note_list[note_dict[Note]+9]).replace(\"2\",\"\")\n",
    "    notes.append(note_6)\n",
    "    note_7 = str(note_list[note_dict[Note]+11]).replace(\"2\",\"\")\n",
    "    notes.append(note_7)\n",
    "    \n",
    "    \n",
    "    # loop to add notes\n",
    "    for i in range (0,7):\n",
    "        scale[i+1]=notes[i]\n",
    "    \n",
    "    return scale"
   ]
  },
  {
   "cell_type": "code",
   "execution_count": 8,
   "metadata": {},
   "outputs": [
    {
     "data": {
      "text/plain": [
       "{1: 'C', 2: 'D', 3: 'E', 4: 'F', 5: 'G', 6: 'A', 7: 'B'}"
      ]
     },
     "execution_count": 8,
     "metadata": {},
     "output_type": "execute_result"
    }
   ],
   "source": [
    "generate_major_scale('C')"
   ]
  },
  {
   "cell_type": "code",
   "execution_count": 9,
   "metadata": {},
   "outputs": [],
   "source": [
    "def generate_modal_dict(scale,mode):\n",
    "    \n",
    "    scale = scale.upper()\n",
    "    \n",
    "    modal_dict = {}\n",
    "\n",
    "    chords = {}\n",
    "    \n",
    "    first_chords = generate_major_scale(scale)\n",
    "        \n",
    "    if mode == 1:\n",
    "        chords[1]=first_chords[1]\n",
    "        chords[2]=f'{first_chords[2]}m'\n",
    "        chords[3]=f'{first_chords[3]}m'\n",
    "        chords[4]=first_chords[4]\n",
    "        chords[5]=first_chords[5]\n",
    "        chords[6]=f'{first_chords[6]}m'\n",
    "        chords[7]=f'{first_chords[7]}dim'\n",
    "    elif mode == 2:\n",
    "        chords[1]=f'{first_chords[2]}m'\n",
    "        chords[2]=f'{first_chords[3]}m'\n",
    "        chords[3]= first_chords[4]\n",
    "        chords[4]= first_chords[5]\n",
    "        chords[5]=f'{first_chords[6]}m'\n",
    "        chords[6]=f'{first_chords[7]}dim'\n",
    "        chords[7]= first_chords[1]\n",
    "    elif mode == 3:\n",
    "        chords[1]=f'{first_chords[3]}m'\n",
    "        chords[2]=f'{first_chords[4]}'\n",
    "        chords[3]=f'{first_chords[5]}'\n",
    "        chords[4]=f'{first_chords[6]}m'\n",
    "        chords[5]=f'{first_chords[7]}dim'\n",
    "        chords[6]=f'{first_chords[1]}'\n",
    "        chords[7]=f'{first_chords[2]}m'\n",
    "    elif mode == 4:\n",
    "        chords[1]=f'{first_chords[4]}'\n",
    "        chords[2]=f'{first_chords[5]}'\n",
    "        chords[3]=f'{first_chords[6]}m'\n",
    "        chords[4]=f'{first_chords[7]}dim'\n",
    "        chords[5]=f'{first_chords[1]}'\n",
    "        chords[6]=f'{first_chords[2]}m'\n",
    "        chords[7]=f'{first_chords[3]}m'\n",
    "    elif mode == 5:\n",
    "        chords[1]=f'{first_chords[5]}'\n",
    "        chords[2]=f'{first_chords[6]}m'\n",
    "        chords[3]=f'{first_chords[7]}dim'\n",
    "        chords[4]=f'{first_chords[1]}'\n",
    "        chords[5]=f'{first_chords[2]}m'\n",
    "        chords[6]=f'{first_chords[3]}m'\n",
    "        chords[7]=f'{first_chords[4]}'\n",
    "    elif mode == 6:\n",
    "        chords[1]=f'{first_chords[6]}m'\n",
    "        chords[2]=f'{first_chords[7]}dim'\n",
    "        chords[3]=f'{first_chords[1]}'\n",
    "        chords[4]=f'{first_chords[2]}m'\n",
    "        chords[5]=f'{first_chords[3]}m'\n",
    "        chords[6]=f'{first_chords[4]}'\n",
    "        chords[7]=f'{first_chords[5]}'\n",
    "    elif mode == 7:\n",
    "        chords[1]=f'{first_chords[7]}dim'\n",
    "        chords[2]=f'{first_chords[1]}'\n",
    "        chords[3]=f'{first_chords[2]}m'\n",
    "        chords[4]=f'{first_chords[3]}m'\n",
    "        chords[5]=f'{first_chords[4]}'\n",
    "        chords[6]=f'{first_chords[5]}'\n",
    "        chords[7]=f'{first_chords[6]}m'\n",
    "    \n",
    "    return chords"
   ]
  },
  {
   "cell_type": "code",
   "execution_count": 10,
   "metadata": {},
   "outputs": [
    {
     "data": {
      "text/plain": [
       "{1: 'D#', 2: 'Fm', 3: 'Gm', 4: 'G#', 5: 'A#', 6: 'Cm', 7: 'Ddim'}"
      ]
     },
     "execution_count": 10,
     "metadata": {},
     "output_type": "execute_result"
    }
   ],
   "source": [
    "generate_modal_dict(\"D#\", 1)"
   ]
  },
  {
   "cell_type": "code",
   "execution_count": 11,
   "metadata": {},
   "outputs": [],
   "source": [
    "def modal_chord_prog_four_using_root(scale,mode):\n",
    "    \n",
    "    modal_dict=generate_modal_dict(scale,mode)\n",
    "    \n",
    "    chord_prog = {}\n",
    "    \n",
    "    chord_prog[1] = modal_dict[1]\n",
    "    chord_prog[2] = np.random.choice([modal_dict[1],modal_dict[2],modal_dict[3],modal_dict[4],modal_dict[5],modal_dict[6]])\n",
    "    chord_prog[3] = np.random.choice([modal_dict[1],modal_dict[2],modal_dict[3],modal_dict[4],modal_dict[6]])\n",
    "    chord_prog[4] = modal_dict[5]\n",
    "    \n",
    "    return chord_prog"
   ]
  },
  {
   "cell_type": "code",
   "execution_count": 12,
   "metadata": {},
   "outputs": [
    {
     "data": {
      "text/plain": [
       "{1: 'C', 2: 'C', 3: 'Em', 4: 'G'}"
      ]
     },
     "execution_count": 12,
     "metadata": {},
     "output_type": "execute_result"
    }
   ],
   "source": [
    "modal_chord_prog_four_using_root('C',1)"
   ]
  },
  {
   "cell_type": "code",
   "execution_count": 13,
   "metadata": {},
   "outputs": [],
   "source": [
    "def modal_chord_prog_eight_using_root(scale,mode):\n",
    "    \n",
    "    modal_dict=generate_modal_dict(scale,mode)\n",
    "    \n",
    "    chord_prog = {}\n",
    "    \n",
    "    chord_prog[1] = modal_dict[1]\n",
    "    chord_prog[2] = np.random.choice([modal_dict[1],modal_dict[2],modal_dict[3],modal_dict[4],modal_dict[5],modal_dict[6]])\n",
    "    chord_prog[3] = np.random.choice([modal_dict[1],modal_dict[2],modal_dict[3],modal_dict[4],modal_dict[6]])\n",
    "    chord_prog[4] = np.random.choice([modal_dict[5],modal_dict[4],modal_dict[2],modal_dict[3],modal_dict[6]])\n",
    "    chord_prog[5] = np.random.choice([modal_dict[1],modal_dict[2],modal_dict[3],modal_dict[4],modal_dict[6]])\n",
    "    chord_prog[6] = np.random.choice([modal_dict[1],modal_dict[2],modal_dict[3],modal_dict[4],modal_dict[5],modal_dict[6]])\n",
    "    chord_prog[7] = np.random.choice([modal_dict[1],modal_dict[2],modal_dict[3],modal_dict[4],modal_dict[6]])\n",
    "    chord_prog[8] = modal_dict[5]\n",
    "    \n",
    "    return chord_prog"
   ]
  },
  {
   "cell_type": "code",
   "execution_count": 14,
   "metadata": {},
   "outputs": [
    {
     "data": {
      "text/plain": [
       "{1: 'C', 2: 'Am', 3: 'Dm', 4: 'F', 5: 'Am', 6: 'Am', 7: 'C', 8: 'G'}"
      ]
     },
     "execution_count": 14,
     "metadata": {},
     "output_type": "execute_result"
    }
   ],
   "source": [
    "modal_chord_prog_eight_using_root('c',1)"
   ]
  },
  {
   "cell_type": "code",
   "execution_count": 15,
   "metadata": {},
   "outputs": [],
   "source": [
    "def modal_chord_prog_four_no_root(scale,mode):\n",
    "    \n",
    "    modal_dict=generate_modal_dict(scale,mode)\n",
    "    \n",
    "    chord_prog = {}\n",
    "    \n",
    "    chord_prog[1] = np.random.choice([modal_dict[2],modal_dict[3],modal_dict[4],modal_dict[5],modal_dict[6]])\n",
    "    chord_prog[2] = np.random.choice([modal_dict[2],modal_dict[3],modal_dict[4],modal_dict[5],modal_dict[6]])\n",
    "    chord_prog[3] = np.random.choice([modal_dict[2],modal_dict[3],modal_dict[4],modal_dict[6]])\n",
    "    chord_prog[4] = modal_dict[5]\n",
    "    \n",
    "    return chord_prog"
   ]
  },
  {
   "cell_type": "code",
   "execution_count": 16,
   "metadata": {},
   "outputs": [
    {
     "data": {
      "text/plain": [
       "{1: 'F', 2: 'Dm', 3: 'Em', 4: 'G'}"
      ]
     },
     "execution_count": 16,
     "metadata": {},
     "output_type": "execute_result"
    }
   ],
   "source": [
    "modal_chord_prog_four_no_root('C',1)"
   ]
  },
  {
   "cell_type": "code",
   "execution_count": 17,
   "metadata": {},
   "outputs": [],
   "source": [
    "def modal_chord_prog_eight_no_root(scale,mode):\n",
    "    \n",
    "    modal_dict=generate_modal_dict(scale,mode)\n",
    "    \n",
    "    chord_prog = {}\n",
    "    \n",
    "    chord_prog[1] = np.random.choice([modal_dict[2],modal_dict[3],modal_dict[4],modal_dict[5],modal_dict[6]])\n",
    "    chord_prog[2] = np.random.choice([modal_dict[2],modal_dict[3],modal_dict[4],modal_dict[5],modal_dict[6]])\n",
    "    chord_prog[3] = np.random.choice([modal_dict[2],modal_dict[3],modal_dict[4],modal_dict[5],modal_dict[6]])\n",
    "    chord_prog[4] = np.random.choice([modal_dict[2],modal_dict[3],modal_dict[4],modal_dict[5],modal_dict[6]])\n",
    "    chord_prog[5] = np.random.choice([modal_dict[2],modal_dict[3],modal_dict[4],modal_dict[5],modal_dict[6]])\n",
    "    chord_prog[6] = np.random.choice([modal_dict[2],modal_dict[3],modal_dict[4],modal_dict[5],modal_dict[6]])\n",
    "    chord_prog[7] = np.random.choice([modal_dict[2],modal_dict[3],modal_dict[4],modal_dict[5],modal_dict[6]])\n",
    "    chord_prog[8] = modal_dict[5]\n",
    "    \n",
    "    return chord_prog"
   ]
  },
  {
   "cell_type": "code",
   "execution_count": 18,
   "metadata": {},
   "outputs": [
    {
     "data": {
      "text/plain": [
       "{1: 'G', 2: 'F', 3: 'Am', 4: 'G', 5: 'G', 6: 'Dm', 7: 'Dm', 8: 'G'}"
      ]
     },
     "execution_count": 18,
     "metadata": {},
     "output_type": "execute_result"
    }
   ],
   "source": [
    "modal_chord_prog_eight_no_root('c',1)"
   ]
  },
  {
   "cell_type": "code",
   "execution_count": 19,
   "metadata": {},
   "outputs": [],
   "source": [
    "def generate_verse():\n",
    "    \n",
    "    # initializing chord_progression\n",
    "    chord_progression = {}\n",
    "    \n",
    "    # pick a base scale\n",
    "    scale = input(prompt='select a musical note to govern a major scale')\n",
    "    \n",
    "    # pick the mode you would like to have your song in\n",
    "    mode = int(input(prompt='select a mode between 1 and 7 of that major scale'))\n",
    "    \n",
    "    # pick the length of the chord progressions in terms of total chords, not unique chords\n",
    "    length = input(prompt=\"pick how many chords appear in core verse progression: 4, or 8\")\n",
    "    \n",
    "    # pick whether you want the verse to have a strong tie to the root\n",
    "    root = input(prompt=\"is the root of strong importance to you?\")\n",
    "    \n",
    "    if length == '4':\n",
    "        if root == 'yes' or root == 'Yes' or root =='y' or root == 'Y':\n",
    "            chord_progression = modal_chord_prog_four_using_root(scale,mode)\n",
    "        else:\n",
    "            chord_progression = modal_chord_prog_four_no_root(scale,mode)\n",
    "    else:\n",
    "        if root == 'yes' or root == 'Yes' or root =='y' or root == 'Y':\n",
    "            chord_progression = modal_chord_prog_eight_using_root(scale,mode)\n",
    "        else:\n",
    "            chord_progression = modal_chord_prog_eight_no_root(scale,mode)\n",
    "    \n",
    "    return chord_progression"
   ]
  },
  {
   "cell_type": "code",
   "execution_count": 20,
   "metadata": {},
   "outputs": [],
   "source": [
    "def generate_chorus():\n",
    "    \n",
    "    # initialzie chord progression\n",
    "    chord_progression = {}\n",
    "    \n",
    "    # choose key and mode\n",
    "    key = input(prompt=\"what key is your chorus in?\")\n",
    "    \n",
    "    # choose a mode\n",
    "    mode = int(input(prompt='pick a mode between 1 and 7'))\n",
    "    \n",
    "    # pick length of chord progression\n",
    "    length = int(input(prompt='how many chords are in your chorus: 4 or 8'))\n",
    "    \n",
    "    if length == 4:\n",
    "        chord_progression = modal_chord_prog_four_using_root(key,mode)\n",
    "    else:\n",
    "        chord_progression = modal_chord_prog_eight_using_root(key,mode)\n",
    "        \n",
    "    return chord_progression"
   ]
  },
  {
   "cell_type": "code",
   "execution_count": 21,
   "metadata": {},
   "outputs": [],
   "source": [
    "def generate_verse_chorus():\n",
    "\n",
    "    verse = generate_verse()\n",
    "    \n",
    "    chorus = generate_chorus()\n",
    "    \n",
    "    song_dict={}\n",
    "    \n",
    "    song_dict[1]=verse\n",
    "    song_dict[2]=chorus\n",
    "    \n",
    "    return song_dict"
   ]
  },
  {
   "cell_type": "code",
   "execution_count": 22,
   "metadata": {},
   "outputs": [],
   "source": [
    "# Onto pre-chorus, post-chorus, and bridge"
   ]
  },
  {
   "cell_type": "code",
   "execution_count": 23,
   "metadata": {},
   "outputs": [],
   "source": [
    "def create_chord_buildup_or_decline(modal_dict,start,direction,length):\n",
    "    \n",
    "    # initialize chord progression\n",
    "    chord_prog = {}\n",
    "    \n",
    "    # generate movement\n",
    "    if length == 4:\n",
    "        if direction == 'a':\n",
    "            if start == 1:\n",
    "                chord_prog[1] = modal_dict[1]\n",
    "                chord_prog[2] = modal_dict[2]\n",
    "                chord_prog[3] = modal_dict[3]\n",
    "                chord_prog[4] = modal_dict[4]\n",
    "            elif start == 2:\n",
    "                chord_prog[1] = modal_dict[2]\n",
    "                chord_prog[2] = modal_dict[3]\n",
    "                chord_prog[3] = modal_dict[4]\n",
    "                chord_prog[4] = modal_dict[5]\n",
    "            elif start == 3:\n",
    "                chord_prog[1] = modal_dict[3]\n",
    "                chord_prog[2] = modal_dict[4]\n",
    "                chord_prog[3] = modal_dict[5]\n",
    "                chord_prog[4] = modal_dict[6]\n",
    "            elif start == 4:\n",
    "                chord_prog[1] = modal_dict[4]\n",
    "                chord_prog[2] = modal_dict[5]\n",
    "                chord_prog[3] = modal_dict[6]\n",
    "                chord_prog[4] = modal_dict[7]\n",
    "            elif start == 5:\n",
    "                chord_prog[1] = modal_dict[5]\n",
    "                chord_prog[2] = modal_dict[6]\n",
    "                chord_prog[3] = modal_dict[7]\n",
    "                chord_prog[4] = modal_dict[1]\n",
    "            elif start == 6:\n",
    "                chord_prog[1] = modal_dict[6]\n",
    "                chord_prog[2] = modal_dict[7]\n",
    "                chord_prog[3] = modal_dict[1]\n",
    "                chord_prog[4] = modal_dict[2]\n",
    "            elif start == 7:\n",
    "                chord_prog[1] = modal_dict[7]\n",
    "                chord_prog[2] = modal_dict[1]\n",
    "                chord_prog[3] = modal_dict[2]\n",
    "                chord_prog[4] = modal_dict[3]\n",
    "        else:\n",
    "            if start == 1:\n",
    "                chord_prog[1] = modal_dict[1]\n",
    "                chord_prog[2] = modal_dict[7]\n",
    "                chord_prog[3] = modal_dict[6]\n",
    "                chord_prog[4] = modal_dict[5]\n",
    "            elif start == 2:\n",
    "                chord_prog[1] = modal_dict[2]\n",
    "                chord_prog[2] = modal_dict[1]\n",
    "                chord_prog[3] = modal_dict[7]\n",
    "                chord_prog[4] = modal_dict[6]\n",
    "            elif start == 3:\n",
    "                chord_prog[1] = modal_dict[3]\n",
    "                chord_prog[2] = modal_dict[2]\n",
    "                chord_prog[3] = modal_dict[1]\n",
    "                chord_prog[4] = modal_dict[7]\n",
    "            elif start == 4:\n",
    "                chord_prog[1] = modal_dict[4]\n",
    "                chord_prog[2] = modal_dict[3]\n",
    "                chord_prog[3] = modal_dict[2]\n",
    "                chord_prog[4] = modal_dict[1]\n",
    "            elif start == 5:\n",
    "                chord_prog[1] = modal_dict[5]\n",
    "                chord_prog[2] = modal_dict[4]\n",
    "                chord_prog[3] = modal_dict[3]\n",
    "                chord_prog[4] = modal_dict[2]\n",
    "            elif start == 6:\n",
    "                chord_prog[1] = modal_dict[6]\n",
    "                chord_prog[2] = modal_dict[5]\n",
    "                chord_prog[3] = modal_dict[4]\n",
    "                chord_prog[4] = modal_dict[3]\n",
    "            elif start == 7:\n",
    "                chord_prog[1] = modal_dict[7]\n",
    "                chord_prog[2] = modal_dict[6]\n",
    "                chord_prog[3] = modal_dict[5]\n",
    "                chord_prog[4] = modal_dict[4]\n",
    "    elif length == 2:\n",
    "        if direction == 'a':\n",
    "            if start == 1:\n",
    "                chord_prog[1] = modal_dict[1]\n",
    "                chord_prog[2] = modal_dict[2]\n",
    "            elif start == 2:\n",
    "                chord_prog[1] = modal_dict[2]\n",
    "                chord_prog[2] = modal_dict[3]\n",
    "            elif start == 3:\n",
    "                chord_prog[1] = modal_dict[3]\n",
    "                chord_prog[2] = modal_dict[4]\n",
    "            elif start == 4:\n",
    "                chord_prog[1] = modal_dict[4]\n",
    "                chord_prog[2] = modal_dict[5]\n",
    "            elif start == 5:\n",
    "                chord_prog[1] = modal_dict[5]\n",
    "                chord_prog[2] = modal_dict[6]\n",
    "            elif start == 6:\n",
    "                chord_prog[1] = modal_dict[6]\n",
    "                chord_prog[2] = modal_dict[7]\n",
    "            elif start == 7:\n",
    "                chord_prog[1] = modal_dict[7]\n",
    "                chord_prog[2] = modal_dict[1]\n",
    "        else:\n",
    "            if start == 1:\n",
    "                chord_prog[1] = modal_dict[1]\n",
    "                chord_prog[2] = modal_dict[7]\n",
    "            elif start == 2:\n",
    "                chord_prog[1] = modal_dict[2]\n",
    "                chord_prog[2] = modal_dict[1]\n",
    "            elif start == 3:\n",
    "                chord_prog[1] = modal_dict[3]\n",
    "                chord_prog[2] = modal_dict[2]\n",
    "            elif start == 4:\n",
    "                chord_prog[1] = modal_dict[4]\n",
    "                chord_prog[2] = modal_dict[3]\n",
    "            elif start == 5:\n",
    "                chord_prog[1] = modal_dict[5]\n",
    "                chord_prog[2] = modal_dict[4]\n",
    "            elif start == 6:\n",
    "                chord_prog[1] = modal_dict[6]\n",
    "                chord_prog[2] = modal_dict[5]\n",
    "            elif start == 7:\n",
    "                chord_prog[1] = modal_dict[7]\n",
    "                chord_prog[2] = modal_dict[6]\n",
    "    \n",
    "    return chord_prog"
   ]
  },
  {
   "cell_type": "code",
   "execution_count": 24,
   "metadata": {},
   "outputs": [],
   "source": [
    "def generate_pre_chorus():\n",
    "    \n",
    "    # allow for build up of step down\n",
    "    direction = input(prompt='respond a for an ascending progression or d for a descending progression')\n",
    "                \n",
    "    # choose key and mode\n",
    "    key = input(prompt=\"what key is your pre-chorus in?\")\n",
    "    \n",
    "    # choose a mode\n",
    "    mode = int(input(prompt='pick a mode between 1 and 7'))\n",
    "    \n",
    "    # generate mode and chors\n",
    "    modal_dict = generate_modal_dict(key,mode)\n",
    "    \n",
    "    # pick length\n",
    "    length = int(input(prompt='will you use 2 or 4 chords in the pre-chorus'))\n",
    "    \n",
    "    # starting point:\n",
    "    if direction == 'a':\n",
    "        if length == 2:\n",
    "            start = int(input(prompt='start at 3 or 4'))\n",
    "        else:\n",
    "            start = int(input(prompt='start at 1 or 2'))\n",
    "    else:\n",
    "        if length == 2:\n",
    "            start = int(input(prompt='start at 6 or 5'))\n",
    "        else:\n",
    "            start = int(input(prompt='start at 7 or 1'))\n",
    "        \n",
    "    return create_chord_buildup_or_decline(modal_dict,start,direction,length)"
   ]
  },
  {
   "cell_type": "code",
   "execution_count": 25,
   "metadata": {},
   "outputs": [],
   "source": [
    "def generate_verse_prechorus_chorus_postchorus():\n",
    "\n",
    "    verse = generate_verse()\n",
    "    \n",
    "    pre_chorus_choice=input(prompt='would you like a pre-chorus')\n",
    "    \n",
    "    if pre_chorus_choice in ['y','Y','Yes','yes']:\n",
    "        pre_chorus = generate_pre_chorus()\n",
    "    else:\n",
    "        pre_chorus = None\n",
    "    \n",
    "\n",
    "    chorus = generate_chorus()\n",
    "        \n",
    "    post_chorus_choice = input(prompt='would you like a post-chorus?')\n",
    "    if post_chorus_choice in ['y','Y','Yes','yes']:\n",
    "        post_chorus = chorus\n",
    "    else:\n",
    "        post_chorus = None\n",
    "\n",
    "    song_dict={}\n",
    "    \n",
    "    song_dict['verse']=verse\n",
    "    song_dict['pre_chorus']=pre_chorus\n",
    "    song_dict['chorus']=chorus\n",
    "    song_dict['post_chorus']=post_chorus\n",
    "    \n",
    "    return song_dict"
   ]
  },
  {
   "cell_type": "code",
   "execution_count": 26,
   "metadata": {},
   "outputs": [],
   "source": [
    "def generate_bridge():\n",
    "    \n",
    "    bridge = {}\n",
    "    \n",
    "    bridge_movement = {}\n",
    "    \n",
    "    key = input(prompt='what key do you want your bridge in?')\n",
    "    \n",
    "    mode = int(input(prompt='what mode do you want your bridge in?'))\n",
    "    \n",
    "    length = int(input(prompt='pick your bridge length: 4 or 8'))\n",
    "        \n",
    "    direction = input(prompt='enter a for an ascending end of bridge or d for a descending end of bridge or n for no buildup or buildown')    \n",
    "    \n",
    "    root_importance = input(prompt='is the root of importance to you?')\n",
    "        \n",
    "    movement = {}\n",
    "        \n",
    "    if direction == 'a':\n",
    "        start = int(input(prompt='where would you like to start your chord movement from: 1 or 2?'))\n",
    "        movement = create_chord_buildup_or_decline(generate_modal_dict(key,mode),start,direction,4)\n",
    "    elif direction == 'd':\n",
    "        start = int(input(prompt='where would you like to start your chord movement from: 1 and 7'))\n",
    "        movement = create_chord_buildup_or_decline(generate_modal_dict(key,mode),start,direction,4)    \n",
    "    \n",
    "    if length == 4:\n",
    "        if direction == 'n':\n",
    "            if root_importance in ['y','Y','Yes','yes']:\n",
    "                bridge = modal_chord_prog_four_using_root(key,mode)\n",
    "            else:\n",
    "                bridge = modal_chord_prog_four_no_root(key,mode)\n",
    "        elif direction == 'a':\n",
    "            bridge = movement\n",
    "        else:\n",
    "            bridge = movement\n",
    "    else:\n",
    "        if direction == 'n':\n",
    "            if root_importance in ['y','Y','Yes','yes']:\n",
    "                bridge = modal_chord_prog_eight_using_root(key,mode)\n",
    "            else:\n",
    "                bridge = modal_chord_prog_eight_no_root()\n",
    "        elif direction == 'a':\n",
    "            if root_importance in ['y','Y','Yes','yes']:\n",
    "                bridge = modal_chord_prog_four_using_root(key,mode)\n",
    "                bridge_movement = movement\n",
    "            else:\n",
    "                bridge = modal_chord_prog_four_no_root(key,mode)\n",
    "                bridge_movement = movement\n",
    "        else:\n",
    "            if root_importance in ['y','Y','Yes','yes']:\n",
    "                bridge = modal_chord_prog_four_using_root(key,mode)\n",
    "                bridge_movement = movement\n",
    "            else:\n",
    "                bridge = modal_chord_prog_four_no_root(key,mode)\n",
    "                bridge_movement = movement\n",
    "    \n",
    "    return bridge , bridge_movement\n",
    "                \n",
    "                "
   ]
  },
  {
   "cell_type": "code",
   "execution_count": 27,
   "metadata": {},
   "outputs": [],
   "source": [
    "def generate_bridge_altern():\n",
    "    \n",
    "    bridge = {}\n",
    "    \n",
    "    bridge_movement = {}\n",
    "    \n",
    "    key = input(prompt='what key do you want your bridge in?')\n",
    "    \n",
    "    mode = int(input(prompt='what mode do you want your bridge in?'))\n",
    "    \n",
    "    length = int(input(prompt='pick your bridge length: 4 or 8'))\n",
    "        \n",
    "    direction = input(prompt='enter a for an ascending end of bridge or d for a descending end of bridge or n for no buildup or buildown')    \n",
    "            \n",
    "    movement = {}\n",
    "        \n",
    "    if direction == 'a':\n",
    "        start = int(input(prompt='where would you like to start your chord movement from: 1 or 2?'))\n",
    "        movement = create_chord_buildup_or_decline(generate_modal_dict(key,mode),start,direction,4)\n",
    "    elif direction == 'd':\n",
    "        start = int(input(prompt='where would you like to start your chord movement from: 1 or 7'))\n",
    "        movement = create_chord_buildup_or_decline(generate_modal_dict(key,mode),start,direction,4)  \n",
    "    \n",
    "    if length == 4:\n",
    "        if direction == 'n':\n",
    "            bridge = modal_chord_prog_four_using_root(key,mode)\n",
    "        else:\n",
    "            bridge = movement\n",
    "    else:\n",
    "        if direction == 'n':\n",
    "            bridge = modal_chord_prog_eight_using_root(key,mode)\n",
    "        else:\n",
    "            bridge = modal_chord_prog_four_using_root(key,mode)\n",
    "            bridge_movement = movement\n",
    "    \n",
    "    return bridge , bridge_movement                "
   ]
  },
  {
   "cell_type": "code",
   "execution_count": 63,
   "metadata": {},
   "outputs": [],
   "source": [
    "def generate_song():\n",
    "\n",
    "    verse = generate_verse()\n",
    "    \n",
    "    pre_chorus_choice=input(prompt='would you like a pre-chorus')\n",
    "    \n",
    "    if pre_chorus_choice in ['y','Y','Yes','yes']:\n",
    "        pre_chorus = generate_pre_chorus()\n",
    "    else:\n",
    "        pre_chorus = None\n",
    "    \n",
    "    new_chords = input(prompt=('would you like new chords for your chorus?'))\n",
    "    if new_chords in ['y','Y','yes','Yes']:\n",
    "        chorus = verse\n",
    "    else:\n",
    "        chorus = generate_chorus()\n",
    "        \n",
    "    post_chorus_choice = input(prompt='would you like a post-chorus?')\n",
    "    if post_chorus_choice in ['y','Y','Yes','yes']:\n",
    "        post_chorus = chorus\n",
    "    else:\n",
    "        post_chorus = None\n",
    "    \n",
    "    bridge_choice = input(prompt='would you like a bridge?')\n",
    "    if bridge_choice in ['y','Y','Yes','yes']:\n",
    "        bridge = generate_bridge_altern()\n",
    "    else:\n",
    "        bridge = None\n",
    "\n",
    "    song_dict={}\n",
    "    \n",
    "    song_dict['verse']=verse\n",
    "    song_dict['pre_chorus']=pre_chorus\n",
    "    song_dict['chorus']=chorus\n",
    "    song_dict['post_chorus']=post_chorus\n",
    "    song_dict['bridge']=bridge\n",
    "    \n",
    "    return song_dict"
   ]
  },
  {
   "cell_type": "code",
   "execution_count": 29,
   "metadata": {},
   "outputs": [],
   "source": [
    "## the post-chorus is a repetition of the chorus"
   ]
  },
  {
   "cell_type": "code",
   "execution_count": 30,
   "metadata": {},
   "outputs": [],
   "source": [
    "from tkinter import *"
   ]
  },
  {
   "cell_type": "code",
   "execution_count": 31,
   "metadata": {},
   "outputs": [],
   "source": [
    "root = Tk()"
   ]
  },
  {
   "cell_type": "code",
   "execution_count": 32,
   "metadata": {},
   "outputs": [],
   "source": [
    "my_label = Label(text='hello world')"
   ]
  },
  {
   "cell_type": "code",
   "execution_count": null,
   "metadata": {},
   "outputs": [],
   "source": []
  },
  {
   "cell_type": "code",
   "execution_count": null,
   "metadata": {},
   "outputs": [],
   "source": []
  },
  {
   "cell_type": "code",
   "execution_count": 60,
   "metadata": {},
   "outputs": [
    {
     "name": "stdin",
     "output_type": "stream",
     "text": [
      "select a musical note to govern a major scale C\n",
      "select a mode between 1 and 7 of that major scale 6\n",
      "pick how many chords appear in core verse progression: 4, or 8 4\n",
      "is the root of strong importance to you? y\n"
     ]
    },
    {
     "data": {
      "text/plain": [
       "{1: 'Am', 2: 'F', 3: 'Dm', 4: 'Em'}"
      ]
     },
     "execution_count": 60,
     "metadata": {},
     "output_type": "execute_result"
    }
   ],
   "source": [
    "generate_verse()"
   ]
  },
  {
   "cell_type": "code",
   "execution_count": 62,
   "metadata": {},
   "outputs": [
    {
     "name": "stdin",
     "output_type": "stream",
     "text": [
      "select a musical note to govern a major scale C\n",
      "select a mode between 1 and 7 of that major scale 1\n"
     ]
    },
    {
     "ename": "KeyboardInterrupt",
     "evalue": "",
     "output_type": "error",
     "traceback": [
      "\u001b[0;31m---------------------------------------------------------------------------\u001b[0m",
      "\u001b[0;31mKeyboardInterrupt\u001b[0m                         Traceback (most recent call last)",
      "\u001b[0;32m~/opt/anaconda3/lib/python3.7/site-packages/ipykernel/kernelbase.py\u001b[0m in \u001b[0;36m_input_request\u001b[0;34m(self, prompt, ident, parent, password)\u001b[0m\n\u001b[1;32m    883\u001b[0m             \u001b[0;32mtry\u001b[0m\u001b[0;34m:\u001b[0m\u001b[0;34m\u001b[0m\u001b[0;34m\u001b[0m\u001b[0m\n\u001b[0;32m--> 884\u001b[0;31m                 \u001b[0mident\u001b[0m\u001b[0;34m,\u001b[0m \u001b[0mreply\u001b[0m \u001b[0;34m=\u001b[0m \u001b[0mself\u001b[0m\u001b[0;34m.\u001b[0m\u001b[0msession\u001b[0m\u001b[0;34m.\u001b[0m\u001b[0mrecv\u001b[0m\u001b[0;34m(\u001b[0m\u001b[0mself\u001b[0m\u001b[0;34m.\u001b[0m\u001b[0mstdin_socket\u001b[0m\u001b[0;34m,\u001b[0m \u001b[0;36m0\u001b[0m\u001b[0;34m)\u001b[0m\u001b[0;34m\u001b[0m\u001b[0;34m\u001b[0m\u001b[0m\n\u001b[0m\u001b[1;32m    885\u001b[0m             \u001b[0;32mexcept\u001b[0m \u001b[0mException\u001b[0m\u001b[0;34m:\u001b[0m\u001b[0;34m\u001b[0m\u001b[0;34m\u001b[0m\u001b[0m\n",
      "\u001b[0;32m~/opt/anaconda3/lib/python3.7/site-packages/jupyter_client/session.py\u001b[0m in \u001b[0;36mrecv\u001b[0;34m(self, socket, mode, content, copy)\u001b[0m\n\u001b[1;32m    802\u001b[0m         \u001b[0;32mtry\u001b[0m\u001b[0;34m:\u001b[0m\u001b[0;34m\u001b[0m\u001b[0;34m\u001b[0m\u001b[0m\n\u001b[0;32m--> 803\u001b[0;31m             \u001b[0mmsg_list\u001b[0m \u001b[0;34m=\u001b[0m \u001b[0msocket\u001b[0m\u001b[0;34m.\u001b[0m\u001b[0mrecv_multipart\u001b[0m\u001b[0;34m(\u001b[0m\u001b[0mmode\u001b[0m\u001b[0;34m,\u001b[0m \u001b[0mcopy\u001b[0m\u001b[0;34m=\u001b[0m\u001b[0mcopy\u001b[0m\u001b[0;34m)\u001b[0m\u001b[0;34m\u001b[0m\u001b[0;34m\u001b[0m\u001b[0m\n\u001b[0m\u001b[1;32m    804\u001b[0m         \u001b[0;32mexcept\u001b[0m \u001b[0mzmq\u001b[0m\u001b[0;34m.\u001b[0m\u001b[0mZMQError\u001b[0m \u001b[0;32mas\u001b[0m \u001b[0me\u001b[0m\u001b[0;34m:\u001b[0m\u001b[0;34m\u001b[0m\u001b[0;34m\u001b[0m\u001b[0m\n",
      "\u001b[0;32m~/opt/anaconda3/lib/python3.7/site-packages/zmq/sugar/socket.py\u001b[0m in \u001b[0;36mrecv_multipart\u001b[0;34m(self, flags, copy, track)\u001b[0m\n\u001b[1;32m    474\u001b[0m         \"\"\"\n\u001b[0;32m--> 475\u001b[0;31m         \u001b[0mparts\u001b[0m \u001b[0;34m=\u001b[0m \u001b[0;34m[\u001b[0m\u001b[0mself\u001b[0m\u001b[0;34m.\u001b[0m\u001b[0mrecv\u001b[0m\u001b[0;34m(\u001b[0m\u001b[0mflags\u001b[0m\u001b[0;34m,\u001b[0m \u001b[0mcopy\u001b[0m\u001b[0;34m=\u001b[0m\u001b[0mcopy\u001b[0m\u001b[0;34m,\u001b[0m \u001b[0mtrack\u001b[0m\u001b[0;34m=\u001b[0m\u001b[0mtrack\u001b[0m\u001b[0;34m)\u001b[0m\u001b[0;34m]\u001b[0m\u001b[0;34m\u001b[0m\u001b[0;34m\u001b[0m\u001b[0m\n\u001b[0m\u001b[1;32m    476\u001b[0m         \u001b[0;31m# have first part already, only loop while more to receive\u001b[0m\u001b[0;34m\u001b[0m\u001b[0;34m\u001b[0m\u001b[0;34m\u001b[0m\u001b[0m\n",
      "\u001b[0;32mzmq/backend/cython/socket.pyx\u001b[0m in \u001b[0;36mzmq.backend.cython.socket.Socket.recv\u001b[0;34m()\u001b[0m\n",
      "\u001b[0;32mzmq/backend/cython/socket.pyx\u001b[0m in \u001b[0;36mzmq.backend.cython.socket.Socket.recv\u001b[0;34m()\u001b[0m\n",
      "\u001b[0;32mzmq/backend/cython/socket.pyx\u001b[0m in \u001b[0;36mzmq.backend.cython.socket._recv_copy\u001b[0;34m()\u001b[0m\n",
      "\u001b[0;32m~/opt/anaconda3/lib/python3.7/site-packages/zmq/backend/cython/checkrc.pxd\u001b[0m in \u001b[0;36mzmq.backend.cython.checkrc._check_rc\u001b[0;34m()\u001b[0m\n",
      "\u001b[0;31mKeyboardInterrupt\u001b[0m: ",
      "\nDuring handling of the above exception, another exception occurred:\n",
      "\u001b[0;31mKeyboardInterrupt\u001b[0m                         Traceback (most recent call last)",
      "\u001b[0;32m<ipython-input-62-96005eab8a15>\u001b[0m in \u001b[0;36m<module>\u001b[0;34m\u001b[0m\n\u001b[0;32m----> 1\u001b[0;31m \u001b[0mgenerate_song\u001b[0m\u001b[0;34m(\u001b[0m\u001b[0;34m)\u001b[0m\u001b[0;34m\u001b[0m\u001b[0;34m\u001b[0m\u001b[0m\n\u001b[0m",
      "\u001b[0;32m<ipython-input-28-ccccee8a442a>\u001b[0m in \u001b[0;36mgenerate_song\u001b[0;34m()\u001b[0m\n\u001b[1;32m      1\u001b[0m \u001b[0;32mdef\u001b[0m \u001b[0mgenerate_song\u001b[0m\u001b[0;34m(\u001b[0m\u001b[0;34m)\u001b[0m\u001b[0;34m:\u001b[0m\u001b[0;34m\u001b[0m\u001b[0;34m\u001b[0m\u001b[0m\n\u001b[1;32m      2\u001b[0m \u001b[0;34m\u001b[0m\u001b[0m\n\u001b[0;32m----> 3\u001b[0;31m     \u001b[0mverse\u001b[0m \u001b[0;34m=\u001b[0m \u001b[0mgenerate_verse\u001b[0m\u001b[0;34m(\u001b[0m\u001b[0;34m)\u001b[0m\u001b[0;34m\u001b[0m\u001b[0;34m\u001b[0m\u001b[0m\n\u001b[0m\u001b[1;32m      4\u001b[0m \u001b[0;34m\u001b[0m\u001b[0m\n\u001b[1;32m      5\u001b[0m     \u001b[0mpre_chorus_choice\u001b[0m\u001b[0;34m=\u001b[0m\u001b[0minput\u001b[0m\u001b[0;34m(\u001b[0m\u001b[0mprompt\u001b[0m\u001b[0;34m=\u001b[0m\u001b[0;34m'would you like a pre-chorus'\u001b[0m\u001b[0;34m)\u001b[0m\u001b[0;34m\u001b[0m\u001b[0;34m\u001b[0m\u001b[0m\n",
      "\u001b[0;32m<ipython-input-19-d37660e5d5ed>\u001b[0m in \u001b[0;36mgenerate_verse\u001b[0;34m()\u001b[0m\n\u001b[1;32m     11\u001b[0m \u001b[0;34m\u001b[0m\u001b[0m\n\u001b[1;32m     12\u001b[0m     \u001b[0;31m# pick the length of the chord progressions in terms of total chords, not unique chords\u001b[0m\u001b[0;34m\u001b[0m\u001b[0;34m\u001b[0m\u001b[0;34m\u001b[0m\u001b[0m\n\u001b[0;32m---> 13\u001b[0;31m     \u001b[0mlength\u001b[0m \u001b[0;34m=\u001b[0m \u001b[0minput\u001b[0m\u001b[0;34m(\u001b[0m\u001b[0mprompt\u001b[0m\u001b[0;34m=\u001b[0m\u001b[0;34m\"pick how many chords appear in core verse progression: 4, or 8\"\u001b[0m\u001b[0;34m)\u001b[0m\u001b[0;34m\u001b[0m\u001b[0;34m\u001b[0m\u001b[0m\n\u001b[0m\u001b[1;32m     14\u001b[0m \u001b[0;34m\u001b[0m\u001b[0m\n\u001b[1;32m     15\u001b[0m     \u001b[0;31m# pick whether you want the verse to have a strong tie to the root\u001b[0m\u001b[0;34m\u001b[0m\u001b[0;34m\u001b[0m\u001b[0;34m\u001b[0m\u001b[0m\n",
      "\u001b[0;32m~/opt/anaconda3/lib/python3.7/site-packages/ipykernel/kernelbase.py\u001b[0m in \u001b[0;36mraw_input\u001b[0;34m(self, prompt)\u001b[0m\n\u001b[1;32m    857\u001b[0m             \u001b[0mself\u001b[0m\u001b[0;34m.\u001b[0m\u001b[0m_parent_ident\u001b[0m\u001b[0;34m,\u001b[0m\u001b[0;34m\u001b[0m\u001b[0;34m\u001b[0m\u001b[0m\n\u001b[1;32m    858\u001b[0m             \u001b[0mself\u001b[0m\u001b[0;34m.\u001b[0m\u001b[0m_parent_header\u001b[0m\u001b[0;34m,\u001b[0m\u001b[0;34m\u001b[0m\u001b[0;34m\u001b[0m\u001b[0m\n\u001b[0;32m--> 859\u001b[0;31m             \u001b[0mpassword\u001b[0m\u001b[0;34m=\u001b[0m\u001b[0;32mFalse\u001b[0m\u001b[0;34m,\u001b[0m\u001b[0;34m\u001b[0m\u001b[0;34m\u001b[0m\u001b[0m\n\u001b[0m\u001b[1;32m    860\u001b[0m         )\n\u001b[1;32m    861\u001b[0m \u001b[0;34m\u001b[0m\u001b[0m\n",
      "\u001b[0;32m~/opt/anaconda3/lib/python3.7/site-packages/ipykernel/kernelbase.py\u001b[0m in \u001b[0;36m_input_request\u001b[0;34m(self, prompt, ident, parent, password)\u001b[0m\n\u001b[1;32m    887\u001b[0m             \u001b[0;32mexcept\u001b[0m \u001b[0mKeyboardInterrupt\u001b[0m\u001b[0;34m:\u001b[0m\u001b[0;34m\u001b[0m\u001b[0;34m\u001b[0m\u001b[0m\n\u001b[1;32m    888\u001b[0m                 \u001b[0;31m# re-raise KeyboardInterrupt, to truncate traceback\u001b[0m\u001b[0;34m\u001b[0m\u001b[0;34m\u001b[0m\u001b[0;34m\u001b[0m\u001b[0m\n\u001b[0;32m--> 889\u001b[0;31m                 \u001b[0;32mraise\u001b[0m \u001b[0mKeyboardInterrupt\u001b[0m\u001b[0;34m\u001b[0m\u001b[0;34m\u001b[0m\u001b[0m\n\u001b[0m\u001b[1;32m    890\u001b[0m             \u001b[0;32melse\u001b[0m\u001b[0;34m:\u001b[0m\u001b[0;34m\u001b[0m\u001b[0;34m\u001b[0m\u001b[0m\n\u001b[1;32m    891\u001b[0m                 \u001b[0;32mbreak\u001b[0m\u001b[0;34m\u001b[0m\u001b[0;34m\u001b[0m\u001b[0m\n",
      "\u001b[0;31mKeyboardInterrupt\u001b[0m: "
     ]
    }
   ],
   "source": [
    "generate_song()"
   ]
  },
  {
   "cell_type": "code",
   "execution_count": null,
   "metadata": {},
   "outputs": [],
   "source": []
  }
 ],
 "metadata": {
  "kernelspec": {
   "display_name": "Python 3",
   "language": "python",
   "name": "python3"
  },
  "language_info": {
   "codemirror_mode": {
    "name": "ipython",
    "version": 3
   },
   "file_extension": ".py",
   "mimetype": "text/x-python",
   "name": "python",
   "nbconvert_exporter": "python",
   "pygments_lexer": "ipython3",
   "version": "3.7.6"
  }
 },
 "nbformat": 4,
 "nbformat_minor": 4
}
