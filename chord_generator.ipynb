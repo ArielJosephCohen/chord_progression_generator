{
 "cells": [
  {
   "cell_type": "code",
   "execution_count": 1,
   "metadata": {},
   "outputs": [],
   "source": [
    "from pychord import Chord"
   ]
  },
  {
   "cell_type": "code",
   "execution_count": 2,
   "metadata": {},
   "outputs": [
    {
     "data": {
      "text/plain": [
       "['C', 'E', 'G']"
      ]
     },
     "execution_count": 2,
     "metadata": {},
     "output_type": "execute_result"
    }
   ],
   "source": [
    "Chord(\"C\").components()"
   ]
  },
  {
   "cell_type": "code",
   "execution_count": 3,
   "metadata": {},
   "outputs": [],
   "source": [
    "import warnings\n",
    "warnings.filterwarnings('ignore')\n",
    "import pandas as pd\n",
    "from scipy import stats\n",
    "import numpy as np\n",
    "import matplotlib.pyplot as plt\n",
    "import seaborn as sns\n",
    "from sklearn.preprocessing import *"
   ]
  },
  {
   "cell_type": "code",
   "execution_count": 4,
   "metadata": {},
   "outputs": [],
   "source": [
    "### should I make this easier and just have a section for each part of the song - like a chorus and erse generator?"
   ]
  },
  {
   "cell_type": "code",
   "execution_count": 5,
   "metadata": {},
   "outputs": [],
   "source": [
    "### intro could be same as chorus or verse"
   ]
  },
  {
   "cell_type": "code",
   "execution_count": 6,
   "metadata": {},
   "outputs": [],
   "source": [
    "note_list = ['C','C#','D','D#','E','F','F#','G','G#','A','A#','B','C2','C#2','D2','D#2','E2','F2','F#2','G2','G#2','A2','A#2','B2']\n",
    "note_dict = {}\n",
    "for i in range(0,24):\n",
    "    note_dict[note_list[i]]=i"
   ]
  },
  {
   "cell_type": "code",
   "execution_count": 7,
   "metadata": {},
   "outputs": [],
   "source": [
    "def generate_major_scale(Note):\n",
    "    \n",
    "    # initialize scale\n",
    "    scale = {}\n",
    "    \n",
    "    # build a list for later\n",
    "    notes = []\n",
    "    \n",
    "    # build scale\n",
    "    note_1 = str(Note)\n",
    "    notes.append(note_1)\n",
    "    note_2 = str(note_list[note_dict[Note]+2]).replace(\"2\",\"\")\n",
    "    notes.append(note_2)\n",
    "    note_3 = str(note_list[note_dict[Note]+4]).replace(\"2\",\"\")\n",
    "    notes.append(note_3)\n",
    "    note_4 = str(note_list[note_dict[Note]+5]).replace(\"2\",\"\")\n",
    "    notes.append(note_4)\n",
    "    note_5 = str(note_list[note_dict[Note]+7]).replace(\"2\",\"\")\n",
    "    notes.append(note_5)\n",
    "    note_6 = str(note_list[note_dict[Note]+9]).replace(\"2\",\"\")\n",
    "    notes.append(note_6)\n",
    "    note_7 = str(note_list[note_dict[Note]+11]).replace(\"2\",\"\")\n",
    "    notes.append(note_7)\n",
    "    \n",
    "    \n",
    "    # loop to add notes\n",
    "    for i in range (0,7):\n",
    "        scale[i+1]=notes[i]\n",
    "    \n",
    "    return scale"
   ]
  },
  {
   "cell_type": "code",
   "execution_count": 8,
   "metadata": {},
   "outputs": [
    {
     "data": {
      "text/plain": [
       "{1: 'C', 2: 'D', 3: 'E', 4: 'F', 5: 'G', 6: 'A', 7: 'B'}"
      ]
     },
     "execution_count": 8,
     "metadata": {},
     "output_type": "execute_result"
    }
   ],
   "source": [
    "generate_major_scale('C')"
   ]
  },
  {
   "cell_type": "code",
   "execution_count": 9,
   "metadata": {},
   "outputs": [],
   "source": [
    "def generate_modal_dict(scale,mode):\n",
    "    \n",
    "    scale = scale.upper()\n",
    "    \n",
    "    modal_dict = {}\n",
    "\n",
    "    chords = {}\n",
    "    \n",
    "    first_chords = generate_major_scale(scale)\n",
    "        \n",
    "    if mode == 1:\n",
    "        chords[1]=first_chords[1]\n",
    "        chords[2]=f'{first_chords[2]}m'\n",
    "        chords[3]=f'{first_chords[3]}m'\n",
    "        chords[4]=first_chords[4]\n",
    "        chords[5]=first_chords[5]\n",
    "        chords[6]=f'{first_chords[6]}m'\n",
    "        chords[7]=f'{first_chords[7]}dim'\n",
    "    elif mode == 2:\n",
    "        chords[1]=f'{first_chords[2]}m'\n",
    "        chords[2]=f'{first_chords[3]}m'\n",
    "        chords[3]= first_chords[4]\n",
    "        chords[4]= first_chords[5]\n",
    "        chords[5]=f'{first_chords[6]}m'\n",
    "        chords[6]=f'{first_chords[7]}dim'\n",
    "        chords[7]= first_chords[1]\n",
    "    elif mode == 3:\n",
    "        chords[1]=f'{first_chords[3]}m'\n",
    "        chords[2]=f'{first_chords[4]}'\n",
    "        chords[3]=f'{first_chords[5]}'\n",
    "        chords[4]=f'{first_chords[6]}m'\n",
    "        chords[5]=f'{first_chords[7]}dim'\n",
    "        chords[6]=f'{first_chords[1]}'\n",
    "        chords[7]=f'{first_chords[2]}m'\n",
    "    elif mode == 4:\n",
    "        chords[1]=f'{first_chords[4]}'\n",
    "        chords[2]=f'{first_chords[5]}'\n",
    "        chords[3]=f'{first_chords[6]}m'\n",
    "        chords[4]=f'{first_chords[7]}dim'\n",
    "        chords[5]=f'{first_chords[1]}'\n",
    "        chords[6]=f'{first_chords[2]}m'\n",
    "        chords[7]=f'{first_chords[3]}m'\n",
    "    elif mode == 5:\n",
    "        chords[1]=f'{first_chords[5]}'\n",
    "        chords[2]=f'{first_chords[6]}m'\n",
    "        chords[3]=f'{first_chords[7]}dim'\n",
    "        chords[4]=f'{first_chords[1]}'\n",
    "        chords[5]=f'{first_chords[2]}m'\n",
    "        chords[6]=f'{first_chords[3]}m'\n",
    "        chords[7]=f'{first_chords[4]}'\n",
    "    elif mode == 6:\n",
    "        chords[1]=f'{first_chords[6]}m'\n",
    "        chords[2]=f'{first_chords[7]}dim'\n",
    "        chords[3]=f'{first_chords[1]}'\n",
    "        chords[4]=f'{first_chords[2]}m'\n",
    "        chords[5]=f'{first_chords[3]}m'\n",
    "        chords[6]=f'{first_chords[4]}'\n",
    "        chords[7]=f'{first_chords[5]}'\n",
    "    elif mode == 7:\n",
    "        chords[1]=f'{first_chords[7]}dim'\n",
    "        chords[2]=f'{first_chords[1]}'\n",
    "        chords[3]=f'{first_chords[2]}m'\n",
    "        chords[4]=f'{first_chords[3]}m'\n",
    "        chords[5]=f'{first_chords[4]}'\n",
    "        chords[6]=f'{first_chords[5]}'\n",
    "        chords[7]=f'{first_chords[6]}m'\n",
    "    \n",
    "    return chords"
   ]
  },
  {
   "cell_type": "code",
   "execution_count": 25,
   "metadata": {},
   "outputs": [
    {
     "data": {
      "text/plain": [
       "{1: 'D#', 2: 'Fm', 3: 'Gm', 4: 'G#', 5: 'A#', 6: 'Cm', 7: 'Ddim'}"
      ]
     },
     "execution_count": 25,
     "metadata": {},
     "output_type": "execute_result"
    }
   ],
   "source": [
    "generate_modal_dict(\"D#\", 1)"
   ]
  },
  {
   "cell_type": "code",
   "execution_count": 11,
   "metadata": {},
   "outputs": [],
   "source": [
    "def modal_chord_prog_four_using_root(scale,mode):\n",
    "    \n",
    "    modal_dict=generate_modal_dict(scale,mode)\n",
    "    \n",
    "    chord_prog = {}\n",
    "    \n",
    "    chord_prog[1] = modal_dict[1]\n",
    "    chord_prog[2] = np.random.choice([modal_dict[1],modal_dict[2],modal_dict[3],modal_dict[4],modal_dict[5],modal_dict[6]])\n",
    "    chord_prog[3] = np.random.choice([modal_dict[1],modal_dict[2],modal_dict[3],modal_dict[4],modal_dict[6]])\n",
    "    chord_prog[4] = modal_dict[5]\n",
    "    \n",
    "    return chord_prog"
   ]
  },
  {
   "cell_type": "code",
   "execution_count": 13,
   "metadata": {},
   "outputs": [
    {
     "data": {
      "text/plain": [
       "{1: 'C', 2: 'Dm', 3: 'Dm', 4: 'G'}"
      ]
     },
     "execution_count": 13,
     "metadata": {},
     "output_type": "execute_result"
    }
   ],
   "source": [
    "modal_chord_prog_four_using_root('c',1)"
   ]
  },
  {
   "cell_type": "code",
   "execution_count": 15,
   "metadata": {},
   "outputs": [],
   "source": [
    "def modal_chord_prog_eight_using_root(scale,mode):\n",
    "    \n",
    "    modal_dict=generate_modal_dict(scale,mode)\n",
    "    \n",
    "    chord_prog = {}\n",
    "    \n",
    "    chord_prog[1] = modal_dict[1]\n",
    "    chord_prog[2] = np.random.choice([modal_dict[1],modal_dict[2],modal_dict[3],modal_dict[4],modal_dict[5],modal_dict[6]])\n",
    "    chord_prog[3] = np.random.choice([modal_dict[1],modal_dict[2],modal_dict[3],modal_dict[4],modal_dict[6]])\n",
    "    chord_prog[4] = np.random.choice([modal_dict[5],modal_dict[4],modal_dict[2],modal_dict[3],modal_dict[6]])\n",
    "    chord_prog[5] = np.random.choice([modal_dict[1],modal_dict[2],modal_dict[3],modal_dict[4],modal_dict[6]])\n",
    "    chord_prog[6] = np.random.choice([modal_dict[1],modal_dict[2],modal_dict[3],modal_dict[4],modal_dict[5],modal_dict[6]])\n",
    "    chord_prog[7] = np.random.choice([modal_dict[1],modal_dict[2],modal_dict[3],modal_dict[4],modal_dict[6]])\n",
    "    chord_prog[8] = modal_dict[5]\n",
    "    \n",
    "    return chord_prog"
   ]
  },
  {
   "cell_type": "code",
   "execution_count": 16,
   "metadata": {},
   "outputs": [
    {
     "data": {
      "text/plain": [
       "{1: 'C', 2: 'F', 3: 'F', 4: 'G', 5: 'F', 6: 'Am', 7: 'Am', 8: 'G'}"
      ]
     },
     "execution_count": 16,
     "metadata": {},
     "output_type": "execute_result"
    }
   ],
   "source": [
    "modal_chord_prog_eight_using_root('c',1)"
   ]
  },
  {
   "cell_type": "code",
   "execution_count": 17,
   "metadata": {},
   "outputs": [],
   "source": [
    "def modal_chord_prog_four_no_root(scale,mode):\n",
    "    \n",
    "    modal_dict=generate_modal_dict(scale,mode)\n",
    "    \n",
    "    chord_prog = {}\n",
    "    \n",
    "    chord_prog[1] = np.random.choice([modal_dict[2],modal_dict[3],modal_dict[4],modal_dict[5],modal_dict[6]])\n",
    "    chord_prog[2] = np.random.choice([modal_dict[2],modal_dict[3],modal_dict[4],modal_dict[5],modal_dict[6]])\n",
    "    chord_prog[3] = np.random.choice([modal_dict[2],modal_dict[3],modal_dict[4],modal_dict[6]])\n",
    "    chord_prog[4] = modal_dict[5]\n",
    "    \n",
    "    return chord_prog"
   ]
  },
  {
   "cell_type": "code",
   "execution_count": 18,
   "metadata": {},
   "outputs": [
    {
     "data": {
      "text/plain": [
       "{1: 'Dm', 2: 'Am', 3: 'F', 4: 'G'}"
      ]
     },
     "execution_count": 18,
     "metadata": {},
     "output_type": "execute_result"
    }
   ],
   "source": [
    "modal_chord_prog_four_no_root('c',1)"
   ]
  },
  {
   "cell_type": "code",
   "execution_count": 19,
   "metadata": {},
   "outputs": [],
   "source": [
    "def modal_chord_prog_eight_no_root(scale,mode):\n",
    "    \n",
    "    modal_dict=generate_modal_dict(scale,mode)\n",
    "    \n",
    "    chord_prog = {}\n",
    "    \n",
    "    chord_prog[1] = np.random.choice([modal_dict[2],modal_dict[3],modal_dict[4],modal_dict[5],modal_dict[6]])\n",
    "    chord_prog[2] = np.random.choice([modal_dict[2],modal_dict[3],modal_dict[4],modal_dict[5],modal_dict[6]])\n",
    "    chord_prog[3] = np.random.choice([modal_dict[2],modal_dict[3],modal_dict[4],modal_dict[5],modal_dict[6]])\n",
    "    chord_prog[4] = np.random.choice([modal_dict[2],modal_dict[3],modal_dict[4],modal_dict[5],modal_dict[6]])\n",
    "    chord_prog[5] = np.random.choice([modal_dict[2],modal_dict[3],modal_dict[4],modal_dict[5],modal_dict[6]])\n",
    "    chord_prog[6] = np.random.choice([modal_dict[2],modal_dict[3],modal_dict[4],modal_dict[5],modal_dict[6]])\n",
    "    chord_prog[7] = np.random.choice([modal_dict[2],modal_dict[3],modal_dict[4],modal_dict[5],modal_dict[6]])\n",
    "    chord_prog[8] = modal_dict[5]\n",
    "    \n",
    "    return chord_prog"
   ]
  },
  {
   "cell_type": "code",
   "execution_count": 22,
   "metadata": {},
   "outputs": [
    {
     "data": {
      "text/plain": [
       "{1: 'F', 2: 'F', 3: 'Dm', 4: 'Am', 5: 'G', 6: 'G', 7: 'Em', 8: 'G'}"
      ]
     },
     "execution_count": 22,
     "metadata": {},
     "output_type": "execute_result"
    }
   ],
   "source": [
    "modal_chord_prog_eight_no_root('c',1)"
   ]
  },
  {
   "cell_type": "code",
   "execution_count": 38,
   "metadata": {},
   "outputs": [],
   "source": [
    "def generate_verse():\n",
    "    \n",
    "    # initializing chord_progression\n",
    "    chord_progression = {}\n",
    "    \n",
    "    # pick a base scale\n",
    "    scale = input(prompt='select a musical note to govern a major scale')\n",
    "    \n",
    "    # pick the mode you would like to have your song in\n",
    "    mode = int(input(prompt='select a mode between 1 and 7 of that major scale'))\n",
    "    \n",
    "    # pick the length of the chord progressions in terms of total chords, not unique chords\n",
    "    length = input(prompt=\"pick how many chords appear in core verse progression: 4, or 8\")\n",
    "    \n",
    "    # pick whether you want the verse to have a strong tie to the root\n",
    "    root = input(prompt=\"is the root of strong importance to you?\")\n",
    "    \n",
    "    if length == '4':\n",
    "        if root == 'yes' or root == 'Yes' or root =='y' or root == 'Y':\n",
    "            chord_progression = modal_chord_prog_four_using_root(scale,mode)\n",
    "        else:\n",
    "            chord_progression = modal_chord_prog_four_no_root(scale,mode)\n",
    "    else:\n",
    "        if root == 'yes' or root == 'Yes' or root =='y' or root == 'Y':\n",
    "            chord_progression = modal_chord_prog_eight_using_root(scale,mode)\n",
    "        else:\n",
    "            chord_progression = modal_chord_prog_eight_no_root(scale,mode)\n",
    "    \n",
    "    return chord_progression"
   ]
  },
  {
   "cell_type": "code",
   "execution_count": 44,
   "metadata": {},
   "outputs": [
    {
     "name": "stdin",
     "output_type": "stream",
     "text": [
      "select a musical note to govern a major scale c\n",
      "select a mode between 1 and 7 of that major scale 1\n",
      "pick how many chords appear in core verse progression: 4, or 8 4\n",
      "is the root of strong importance to you? y\n"
     ]
    },
    {
     "data": {
      "text/plain": [
       "{1: 'C', 2: 'Am', 3: 'Dm', 4: 'G'}"
      ]
     },
     "execution_count": 44,
     "metadata": {},
     "output_type": "execute_result"
    }
   ],
   "source": [
    "generate_verse()"
   ]
  },
  {
   "cell_type": "code",
   "execution_count": 97,
   "metadata": {},
   "outputs": [],
   "source": [
    "def generate_chorus():\n",
    "    \n",
    "    # initialzie chord progression\n",
    "    chord_progression = {}\n",
    "    \n",
    "    # optional key change\n",
    "    key = input(prompt='would you like a key change for your chorus')\n",
    "    \n",
    "    # pick a key to change to\n",
    "    if key in ['y','Y','yes','Yes']:\n",
    "        key = input(prompt='pick a key to change to')\n",
    "        mode = int(input(prompt='pick a mode of that scale'))\n",
    "    else:\n",
    "        key = input(prompt='what key was your verse in?')\n",
    "        mode = int(input(prompt='what mode was your verse in?'))\n",
    "    \n",
    "    # pick length of chord progression\n",
    "    length = int(input(prompt='how many chords are in your chorus: 4 or 8'))\n",
    "    \n",
    "    if length == 4:\n",
    "        chord_progression = modal_chord_prog_four_using_root(key,mode)\n",
    "    else:\n",
    "        chord_progression = modal_chord_prog_eight_using_root(key,mode)\n",
    "        \n",
    "    return chord_progression"
   ]
  },
  {
   "cell_type": "code",
   "execution_count": 56,
   "metadata": {},
   "outputs": [],
   "source": [
    "def generate_verse_chorus():\n",
    "\n",
    "    verse = generate_verse()\n",
    "    \n",
    "    chorus = generate_chorus()\n",
    "    \n",
    "    song_dict={}\n",
    "    \n",
    "    song_dict[1]=verse\n",
    "    song_dict[2]=chorus\n",
    "    \n",
    "    return song_dict"
   ]
  },
  {
   "cell_type": "code",
   "execution_count": 61,
   "metadata": {},
   "outputs": [
    {
     "name": "stdin",
     "output_type": "stream",
     "text": [
      "select a musical note to govern a major scale C\n",
      "select a mode between 1 and 7 of that major scale 1\n",
      "pick how many chords appear in core verse progression: 4, or 8 4\n",
      "is the root of strong importance to you? y\n",
      "would you like a key change n\n",
      "what key was your verse in? C\n",
      "what mode was your verse in? 1\n",
      "how many chords are in your chorus: 4 or 8 4\n"
     ]
    },
    {
     "data": {
      "text/plain": [
       "{1: {1: 'C', 2: 'Em', 3: 'Am', 4: 'G'}, 2: {1: 'C', 2: 'F', 3: 'Am', 4: 'G'}}"
      ]
     },
     "execution_count": 61,
     "metadata": {},
     "output_type": "execute_result"
    }
   ],
   "source": [
    "generate_verse_chorus()"
   ]
  },
  {
   "cell_type": "code",
   "execution_count": 62,
   "metadata": {},
   "outputs": [],
   "source": [
    "# Onto pre-chorus, post-chorus, and bridge"
   ]
  },
  {
   "cell_type": "code",
   "execution_count": 89,
   "metadata": {},
   "outputs": [],
   "source": [
    "def create_chord_buildup_or_decline(modal_dict,start,direction,length):\n",
    "    \n",
    "    # initialize chord progression\n",
    "    chord_prog = {}\n",
    "    \n",
    "    # generate movement\n",
    "    if length == 4:\n",
    "        if direction == 'a':\n",
    "            if start == 1:\n",
    "                chord_prog[1] = modal_dict[1]\n",
    "                chord_prog[2] = modal_dict[2]\n",
    "                chord_prog[3] = modal_dict[3]\n",
    "                chord_prog[4] = modal_dict[4]\n",
    "            elif start == 2:\n",
    "                chord_prog[1] = modal_dict[2]\n",
    "                chord_prog[2] = modal_dict[3]\n",
    "                chord_prog[3] = modal_dict[4]\n",
    "                chord_prog[4] = modal_dict[5]\n",
    "            elif start == 3:\n",
    "                chord_prog[1] = modal_dict[3]\n",
    "                chord_prog[2] = modal_dict[4]\n",
    "                chord_prog[3] = modal_dict[5]\n",
    "                chord_prog[4] = modal_dict[6]\n",
    "            elif start == 4:\n",
    "                chord_prog[1] = modal_dict[4]\n",
    "                chord_prog[2] = modal_dict[5]\n",
    "                chord_prog[3] = modal_dict[6]\n",
    "                chord_prog[4] = modal_dict[7]\n",
    "            elif start == 5:\n",
    "                chord_prog[1] = modal_dict[5]\n",
    "                chord_prog[2] = modal_dict[6]\n",
    "                chord_prog[3] = modal_dict[7]\n",
    "                chord_prog[4] = modal_dict[1]\n",
    "            elif start == 6:\n",
    "                chord_prog[1] = modal_dict[6]\n",
    "                chord_prog[2] = modal_dict[7]\n",
    "                chord_prog[3] = modal_dict[1]\n",
    "                chord_prog[4] = modal_dict[2]\n",
    "            elif start == 7:\n",
    "                chord_prog[1] = modal_dict[7]\n",
    "                chord_prog[2] = modal_dict[1]\n",
    "                chord_prog[3] = modal_dict[2]\n",
    "                chord_prog[4] = modal_dict[3]\n",
    "        else:\n",
    "            if start == 1:\n",
    "                chord_prog[1] = modal_dict[1]\n",
    "                chord_prog[2] = modal_dict[7]\n",
    "                chord_prog[3] = modal_dict[6]\n",
    "                chord_prog[4] = modal_dict[5]\n",
    "            elif start == 2:\n",
    "                chord_prog[1] = modal_dict[2]\n",
    "                chord_prog[2] = modal_dict[1]\n",
    "                chord_prog[3] = modal_dict[7]\n",
    "                chord_prog[4] = modal_dict[6]\n",
    "            elif start == 3:\n",
    "                chord_prog[1] = modal_dict[3]\n",
    "                chord_prog[2] = modal_dict[4]\n",
    "                chord_prog[3] = modal_dict[5]\n",
    "                chord_prog[4] = modal_dict[6]\n",
    "            elif start == 4:\n",
    "                chord_prog[1] = modal_dict[4]\n",
    "                chord_prog[2] = modal_dict[5]\n",
    "                chord_prog[3] = modal_dict[6]\n",
    "                chord_prog[4] = modal_dict[7]\n",
    "            elif start == 5:\n",
    "                chord_prog[1] = modal_dict[5]\n",
    "                chord_prog[2] = modal_dict[6]\n",
    "                chord_prog[3] = modal_dict[7]\n",
    "                chord_prog[4] = modal_dict[1]\n",
    "            elif start == 6:\n",
    "                chord_prog[1] = modal_dict[6]\n",
    "                chord_prog[2] = modal_dict[7]\n",
    "                chord_prog[3] = modal_dict[1]\n",
    "                chord_prog[4] = modal_dict[2]\n",
    "            elif start == 7:\n",
    "                chord_prog[1] = modal_dict[7]\n",
    "                chord_prog[2] = modal_dict[1]\n",
    "                chord_prog[3] = modal_dict[2]\n",
    "                chord_prog[4] = modal_dict[3]\n",
    "    elif length == 2:\n",
    "        if direction == 'a':\n",
    "            if start == 1:\n",
    "                chord_prog[1] = modal_dict[1]\n",
    "                chord_prog[2] = modal_dict[2]\n",
    "            elif start == 2:\n",
    "                chord_prog[1] = modal_dict[2]\n",
    "                chord_prog[2] = modal_dict[3]\n",
    "            elif start == 3:\n",
    "                chord_prog[1] = modal_dict[3]\n",
    "                chord_prog[2] = modal_dict[4]\n",
    "            elif start == 4:\n",
    "                chord_prog[1] = modal_dict[4]\n",
    "                chord_prog[2] = modal_dict[5]\n",
    "            elif start == 5:\n",
    "                chord_prog[1] = modal_dict[5]\n",
    "                chord_prog[2] = modal_dict[6]\n",
    "            elif start == 6:\n",
    "                chord_prog[1] = modal_dict[6]\n",
    "                chord_prog[2] = modal_dict[7]\n",
    "            elif start == 7:\n",
    "                chord_prog[1] = modal_dict[7]\n",
    "                chord_prog[2] = modal_dict[1]\n",
    "        else:\n",
    "            if start == 1:\n",
    "                chord_prog[1] = modal_dict[1]\n",
    "                chord_prog[2] = modal_dict[7]\n",
    "            elif start == 2:\n",
    "                chord_prog[1] = modal_dict[2]\n",
    "                chord_prog[2] = modal_dict[1]\n",
    "            elif start == 3:\n",
    "                chord_prog[1] = modal_dict[3]\n",
    "                chord_prog[2] = modal_dict[4]\n",
    "            elif start == 4:\n",
    "                chord_prog[1] = modal_dict[4]\n",
    "                chord_prog[2] = modal_dict[5]\n",
    "            elif start == 5:\n",
    "                chord_prog[1] = modal_dict[5]\n",
    "                chord_prog[2] = modal_dict[6]\n",
    "            elif start == 6:\n",
    "                chord_prog[1] = modal_dict[6]\n",
    "                chord_prog[2] = modal_dict[7]\n",
    "            elif start == 7:\n",
    "                chord_prog[1] = modal_dict[7]\n",
    "                chord_prog[2] = modal_dict[1]\n",
    "    \n",
    "    return chord_prog"
   ]
  },
  {
   "cell_type": "code",
   "execution_count": 90,
   "metadata": {},
   "outputs": [
    {
     "data": {
      "text/plain": [
       "{1: 'C', 2: 'Dm'}"
      ]
     },
     "execution_count": 90,
     "metadata": {},
     "output_type": "execute_result"
    }
   ],
   "source": [
    "create_chord_buildup_or_decline(generate_modal_dict('C',1),1,'a',2)"
   ]
  },
  {
   "cell_type": "code",
   "execution_count": 92,
   "metadata": {},
   "outputs": [],
   "source": [
    "def generate_pre_chorus():\n",
    "    \n",
    "    # allow for build up of step down\n",
    "    direction = input(prompt='respond a for ascending progression or d for a descending progression')\n",
    "                \n",
    "    # choose key and mode\n",
    "    key = input(prompt=\"what key is your pre-chorus in?\")\n",
    "    \n",
    "    # choose a mode\n",
    "    mode = int(input(prompt='pick a mode between 1 and 7'))\n",
    "    \n",
    "    # generate mode and chors\n",
    "    modal_dict = generate_modal_dict(key,mode)\n",
    "    \n",
    "    # pick length\n",
    "    length = int(input(prompt='will you use 2 or 4 chords in the pre-chorus'))\n",
    "    \n",
    "    # starting point:\n",
    "    if direction == 'a':\n",
    "        if length == 2:\n",
    "            start = int(input(prompt='start at 3 or 4'))\n",
    "        else:\n",
    "            start = int(input(prompt='start at 1 or 2'))\n",
    "    else:\n",
    "        if length == 2:\n",
    "            start = int(input(prompt='start at 6 or 5'))\n",
    "        else:\n",
    "            start = int(input(prompt='start at 7 or 1'))\n",
    "        \n",
    "    return create_chord_buildup_or_decline(modal_dict,start,direction,length)"
   ]
  },
  {
   "cell_type": "code",
   "execution_count": 93,
   "metadata": {},
   "outputs": [
    {
     "name": "stdin",
     "output_type": "stream",
     "text": [
      "respond a for ascending progression or d for a descending progression a\n",
      "what key is your pre-chorus in? C\n",
      "pick a mode between 1 and 7 1\n",
      "will you use 2 or 4 chords in the pre-chorus 2\n",
      "start at 3 or 4 3\n"
     ]
    },
    {
     "data": {
      "text/plain": [
       "{1: 'Em', 2: 'F'}"
      ]
     },
     "execution_count": 93,
     "metadata": {},
     "output_type": "execute_result"
    }
   ],
   "source": [
    "generate_pre_chorus()"
   ]
  },
  {
   "cell_type": "code",
   "execution_count": 98,
   "metadata": {},
   "outputs": [],
   "source": [
    "def generate_verse_prechorus_chorus():\n",
    "\n",
    "    verse = generate_verse()\n",
    "    \n",
    "    pre_chorus_choice=input(prompt='would you like a pre chorus')\n",
    "    \n",
    "    if pre_chorus_choice in ['y','Y','Yes','yes']:\n",
    "        pre_chorus = generate_pre_chorus()\n",
    "    else:\n",
    "        pre_chorus = None\n",
    "    \n",
    "    chorus = generate_chorus()\n",
    "    \n",
    "    song_dict={}\n",
    "    \n",
    "    song_dict[1]=verse\n",
    "    song_dict[2]=pre_chorus\n",
    "    song_dict[3]=chorus\n",
    "    \n",
    "    return song_dict"
   ]
  },
  {
   "cell_type": "code",
   "execution_count": 99,
   "metadata": {},
   "outputs": [
    {
     "name": "stdin",
     "output_type": "stream",
     "text": [
      "select a musical note to govern a major scale C\n",
      "select a mode between 1 and 7 of that major scale 1\n",
      "pick how many chords appear in core verse progression: 4, or 8 4\n",
      "is the root of strong importance to you? y\n",
      "would you like a pre chorus \n",
      "would you like a key change for your chorus n\n",
      "what key was your verse in? C\n",
      "what mode was your verse in? 1\n",
      "how many chords are in your chorus: 4 or 8 4\n"
     ]
    },
    {
     "data": {
      "text/plain": [
       "{1: {1: 'C', 2: 'Dm', 3: 'C', 4: 'G'},\n",
       " 2: None,\n",
       " 3: {1: 'C', 2: 'C', 3: 'F', 4: 'G'}}"
      ]
     },
     "execution_count": 99,
     "metadata": {},
     "output_type": "execute_result"
    }
   ],
   "source": [
    "generate_verse_prechorus_chorus()"
   ]
  }
 ],
 "metadata": {
  "kernelspec": {
   "display_name": "Python 3",
   "language": "python",
   "name": "python3"
  },
  "language_info": {
   "codemirror_mode": {
    "name": "ipython",
    "version": 3
   },
   "file_extension": ".py",
   "mimetype": "text/x-python",
   "name": "python",
   "nbconvert_exporter": "python",
   "pygments_lexer": "ipython3",
   "version": "3.7.4"
  }
 },
 "nbformat": 4,
 "nbformat_minor": 4
}
